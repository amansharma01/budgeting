{
 "cells": [
  {
   "cell_type": "code",
   "execution_count": 1,
   "metadata": {
    "collapsed": false
   },
   "outputs": [],
   "source": [
    "import budgeting as bg\n",
    "\n",
    "%load_ext autoreload\n",
    "%autoreload 2\n",
    "\n"
   ]
  },
  {
   "cell_type": "code",
   "execution_count": 2,
   "metadata": {
    "collapsed": false
   },
   "outputs": [
    {
     "data": {
      "text/html": [
       "<div>\n",
       "<table border=\"1\" class=\"dataframe\">\n",
       "  <thead>\n",
       "    <tr style=\"text-align: right;\">\n",
       "      <th></th>\n",
       "      <th>date</th>\n",
       "      <th>amount</th>\n",
       "      <th>description</th>\n",
       "      <th>category</th>\n",
       "      <th>comment</th>\n",
       "    </tr>\n",
       "  </thead>\n",
       "  <tbody>\n",
       "    <tr>\n",
       "      <th>0</th>\n",
       "      <td>2016-01-06</td>\n",
       "      <td>-96</td>\n",
       "      <td>0x409ed</td>\n",
       "      <td>housing</td>\n",
       "      <td>0x4f2ecc661f</td>\n",
       "    </tr>\n",
       "    <tr>\n",
       "      <th>1</th>\n",
       "      <td>2016-01-06</td>\n",
       "      <td>-24</td>\n",
       "      <td>0x87f90</td>\n",
       "      <td>healthcare</td>\n",
       "      <td>0xb00fd93788</td>\n",
       "    </tr>\n",
       "    <tr>\n",
       "      <th>2</th>\n",
       "      <td>2016-01-07</td>\n",
       "      <td>-99</td>\n",
       "      <td>0x64683</td>\n",
       "      <td>healthcare</td>\n",
       "      <td>0x673cd58472</td>\n",
       "    </tr>\n",
       "    <tr>\n",
       "      <th>3</th>\n",
       "      <td>2016-01-07</td>\n",
       "      <td>-85</td>\n",
       "      <td>0x6d067</td>\n",
       "      <td>transport</td>\n",
       "      <td>0x88ef73b6e5</td>\n",
       "    </tr>\n",
       "    <tr>\n",
       "      <th>4</th>\n",
       "      <td>2016-01-08</td>\n",
       "      <td>-15</td>\n",
       "      <td>0x5c88c</td>\n",
       "      <td>healthcare</td>\n",
       "      <td>0x318f88a81b</td>\n",
       "    </tr>\n",
       "  </tbody>\n",
       "</table>\n",
       "</div>"
      ],
      "text/plain": [
       "        date  amount description    category       comment\n",
       "0 2016-01-06     -96     0x409ed     housing  0x4f2ecc661f\n",
       "1 2016-01-06     -24     0x87f90  healthcare  0xb00fd93788\n",
       "2 2016-01-07     -99     0x64683  healthcare  0x673cd58472\n",
       "3 2016-01-07     -85     0x6d067   transport  0x88ef73b6e5\n",
       "4 2016-01-08     -15     0x5c88c  healthcare  0x318f88a81b"
      ]
     },
     "execution_count": 2,
     "metadata": {},
     "output_type": "execute_result"
    }
   ],
   "source": [
    "# Read sample transactions\n",
    "\n",
    "p = 'sample_transactions.csv'\n",
    "transactions = bg.read_transactions(p)\n",
    "transactions.head()"
   ]
  },
  {
   "cell_type": "code",
   "execution_count": 3,
   "metadata": {
    "collapsed": false
   },
   "outputs": [
    {
     "name": "stdout",
     "output_type": "stream",
     "text": [
      "        date  income  expense  saving  period_budget\n",
      "0 2016-01-01    1274     1727    -453         1506.0\n",
      "1 2016-02-01    1336     1468    -132         1409.0\n",
      "2 2016-03-01    1902     1261     641         1506.0\n",
      "3 2016-04-01    1425     1462     -37         1457.0\n",
      "4 2016-05-01    1413     1336      77         1506.0\n"
     ]
    },
    {
     "data": {
      "text/html": [
       "<iframe style=\"border:0;outline:none;overflow:hidden\" srcdoc=\"&lt;!DOCTYPE html&gt; &lt;html lang=&quot;en&quot;&gt; &lt;head&gt; &lt;meta charset=&quot;utf-8&quot; /&gt; &lt;link href=&quot;https://www.highcharts.com/highslide/highslide.css&quot; rel=&quot;stylesheet&quot; /&gt; &lt;script type=&quot;text/javascript&quot; src=&quot;https://ajax.googleapis.com/ajax/libs/jquery/1.9.1/jquery.min.js&quot;&gt;&lt;/script&gt; &lt;script type=&quot;text/javascript&quot; src=&quot;https://code.highcharts.com/highcharts.js&quot;&gt;&lt;/script&gt; &lt;script type=&quot;text/javascript&quot; src=&quot;https://code.highcharts.com/highcharts-more.js&quot;&gt;&lt;/script&gt; &lt;script type=&quot;text/javascript&quot; src=&quot;https://code.highcharts.com/modules/heatmap.js&quot;&gt;&lt;/script&gt; &lt;script type=&quot;text/javascript&quot; src=&quot;https://code.highcharts.com/modules/exporting.js&quot;&gt;&lt;/script&gt; &lt;/head&gt; &lt;body style=&quot;margin:0;padding:0&quot;&gt; &lt;div id=&quot;container&quot; style=&quot;width:600px;height:400px;&quot;&gt;Loading....&lt;/div&gt; &lt;script&gt; $(function(){ Highcharts.setOptions({&quot;global&quot;: {}, &quot;lang&quot;: {}}); var option = {&quot;legend&quot;: {}, &quot;labels&quot;: {}, &quot;tooltip&quot;: {&quot;footerFormat&quot;: &quot;&lt;/table&gt;&quot;, &quot;headerFormat&quot;: &quot;&lt;b&gt;{point.key:%Y-%m-%d}&lt;/b&gt; (period start)&lt;table&gt;&quot;, &quot;pointFormat&quot;: &quot;&lt;tr&gt;&lt;td style=\\&quot;padding-right:1em\\&quot;&gt;{series.name}&lt;/td&gt;&lt;td style=\\&quot;text-align:right\\&quot;&gt;{point.y:.0f} GLD&lt;/td&gt;&lt;/tr&gt;&quot;, &quot;shared&quot;: true, &quot;useHTML&quot;: true}, &quot;navigation&quot;: {}, &quot;plotOptions&quot;: {&quot;column&quot;: {&quot;borderColor&quot;: &quot;#333333&quot;, &quot;pointPadding&quot;: 0, &quot;borderWidth&quot;: 1}}, &quot;chart&quot;: {&quot;renderTo&quot;: &quot;container&quot;, &quot;height&quot;: 400, &quot;width&quot;: 600}, &quot;credits&quot;: {&quot;enabled&quot;: false}, &quot;title&quot;: {&quot;text&quot;: &quot;Account Summary&quot;}, &quot;series&quot;: {}, &quot;xAxis&quot;: {&quot;type&quot;: &quot;datetime&quot;, &quot;labels&quot;: {&quot;format&quot;: &quot;{value:%Y-%m-%d}&quot;, &quot;rotation&quot;: -45, &quot;align&quot;: &quot;right&quot;}}, &quot;subtitle&quot;: {}, &quot;exporting&quot;: {}, &quot;colors&quot;: {}, &quot;pane&quot;: {}, &quot;drilldown&quot;: {}, &quot;loading&quot;: {}, &quot;yAxis&quot;: {&quot;title&quot;: {&quot;text&quot;: &quot;Money (GLD)&quot;}}}; var data = [{&quot;data&quot;: [[Date.UTC(2016,0,1,0,0,0,0.0), 1274], [Date.UTC(2016,1,1,0,0,0,0.0), 1336], [Date.UTC(2016,2,1,0,0,0,0.0), 1902], [Date.UTC(2016,3,1,0,0,0,0.0), 1425], [Date.UTC(2016,4,1,0,0,0,0.0), 1413], [Date.UTC(2016,5,1,0,0,0,0.0), 1686], [Date.UTC(2016,6,1,0,0,0,0.0), 1976], [Date.UTC(2016,7,1,0,0,0,0.0), 1348], [Date.UTC(2016,8,1,0,0,0,0.0), 1926], [Date.UTC(2016,9,1,0,0,0,0.0), 1924], [Date.UTC(2016,10,1,0,0,0,0.0), 1508], [Date.UTC(2016,11,1,0,0,0,0.0), 679]], &quot;type&quot;: &quot;column&quot;, &quot;name&quot;: &quot;Income&quot;, &quot;color&quot;: &quot;rgb(67,162,202)&quot;}, {&quot;data&quot;: [[Date.UTC(2016,0,1,0,0,0,0.0), 1727], [Date.UTC(2016,1,1,0,0,0,0.0), 1468], [Date.UTC(2016,2,1,0,0,0,0.0), 1261], [Date.UTC(2016,3,1,0,0,0,0.0), 1462], [Date.UTC(2016,4,1,0,0,0,0.0), 1336], [Date.UTC(2016,5,1,0,0,0,0.0), 1419], [Date.UTC(2016,6,1,0,0,0,0.0), 1193], [Date.UTC(2016,7,1,0,0,0,0.0), 1450], [Date.UTC(2016,8,1,0,0,0,0.0), 1079], [Date.UTC(2016,9,1,0,0,0,0.0), 1596], [Date.UTC(2016,10,1,0,0,0,0.0), 1416], [Date.UTC(2016,11,1,0,0,0,0.0), 1237]], &quot;type&quot;: &quot;column&quot;, &quot;name&quot;: &quot;Expense&quot;, &quot;color&quot;: &quot;rgb(227,74,51)&quot;}, {&quot;data&quot;: [[Date.UTC(2016,0,1,0,0,0,0.0), 1506.0], [Date.UTC(2016,1,1,0,0,0,0.0), 1409.0], [Date.UTC(2016,2,1,0,0,0,0.0), 1506.0], [Date.UTC(2016,3,1,0,0,0,0.0), 1457.0], [Date.UTC(2016,4,1,0,0,0,0.0), 1506.0], [Date.UTC(2016,5,1,0,0,0,0.0), 1457.0], [Date.UTC(2016,6,1,0,0,0,0.0), 1506.0], [Date.UTC(2016,7,1,0,0,0,0.0), 1506.0], [Date.UTC(2016,8,1,0,0,0,0.0), 1457.0], [Date.UTC(2016,9,1,0,0,0,0.0), 1506.0], [Date.UTC(2016,10,1,0,0,0,0.0), 1457.0], [Date.UTC(2016,11,1,0,0,0,0.0), 1506.0]], &quot;type&quot;: &quot;column&quot;, &quot;name&quot;: &quot;Budget&quot;, &quot;color&quot;: &quot;rgb(255, 255, 255)&quot;}, {&quot;data&quot;: [[Date.UTC(2016,0,1,0,0,0,0.0), -453], [Date.UTC(2016,1,1,0,0,0,0.0), -132], [Date.UTC(2016,2,1,0,0,0,0.0), 641], [Date.UTC(2016,3,1,0,0,0,0.0), -37], [Date.UTC(2016,4,1,0,0,0,0.0), 77], [Date.UTC(2016,5,1,0,0,0,0.0), 267], [Date.UTC(2016,6,1,0,0,0,0.0), 783], [Date.UTC(2016,7,1,0,0,0,0.0), -102], [Date.UTC(2016,8,1,0,0,0,0.0), 847], [Date.UTC(2016,9,1,0,0,0,0.0), 328], [Date.UTC(2016,10,1,0,0,0,0.0), 92], [Date.UTC(2016,11,1,0,0,0,0.0), -558]], &quot;type&quot;: &quot;column&quot;, &quot;name&quot;: &quot;Saving&quot;, &quot;color&quot;: &quot;rgb(117,107,177)&quot;, &quot;visible&quot;: false}]; option.series = data; var chart = new Highcharts.Chart(option); }); &lt;/script&gt; &lt;/body&gt; &lt;/html&gt;\" height=400 width=600></iframe>"
      ],
      "text/plain": [
       "<highcharts.highcharts.highcharts.Highchart at 0x1114bdc18>"
      ]
     },
     "execution_count": 3,
     "metadata": {},
     "output_type": "execute_result"
    }
   ],
   "source": [
    "# Summarize and plot\n",
    "\n",
    "summary = bg.summarize(transactions, freq='MS', budget_and_freq=(340, 'W'), \n",
    "  by_category=False, decimals=0)\n",
    "print(summary.head())\n",
    "bg.plot(summary, currency='GLD')\n"
   ]
  },
  {
   "cell_type": "code",
   "execution_count": 4,
   "metadata": {
    "collapsed": false
   },
   "outputs": [
    {
     "name": "stdout",
     "output_type": "stream",
     "text": [
      "        date  income  expense  saving    category  period_budget\n",
      "0 2016-01-01       0      319    -319        food         1506.0\n",
      "1 2016-01-01       0      500    -500  healthcare         1506.0\n",
      "2 2016-01-01       0      479    -479     housing         1506.0\n",
      "3 2016-01-01       0      221    -221  miscellany         1506.0\n",
      "4 2016-01-01     439        0     439       reiki         1506.0\n"
     ]
    },
    {
     "data": {
      "text/html": [
       "<iframe style=\"border:0;outline:none;overflow:hidden\" srcdoc=\"&lt;!DOCTYPE html&gt; &lt;html lang=&quot;en&quot;&gt; &lt;head&gt; &lt;meta charset=&quot;utf-8&quot; /&gt; &lt;link href=&quot;https://www.highcharts.com/highslide/highslide.css&quot; rel=&quot;stylesheet&quot; /&gt; &lt;script type=&quot;text/javascript&quot; src=&quot;https://ajax.googleapis.com/ajax/libs/jquery/1.9.1/jquery.min.js&quot;&gt;&lt;/script&gt; &lt;script type=&quot;text/javascript&quot; src=&quot;https://code.highcharts.com/highcharts.js&quot;&gt;&lt;/script&gt; &lt;script type=&quot;text/javascript&quot; src=&quot;https://code.highcharts.com/highcharts-more.js&quot;&gt;&lt;/script&gt; &lt;script type=&quot;text/javascript&quot; src=&quot;https://code.highcharts.com/modules/heatmap.js&quot;&gt;&lt;/script&gt; &lt;script type=&quot;text/javascript&quot; src=&quot;https://code.highcharts.com/modules/exporting.js&quot;&gt;&lt;/script&gt; &lt;/head&gt; &lt;body style=&quot;margin:0;padding:0&quot;&gt; &lt;div id=&quot;container&quot; style=&quot;width:600px;height:400px;&quot;&gt;Loading....&lt;/div&gt; &lt;script&gt; $(function(){ Highcharts.setOptions({&quot;global&quot;: {}, &quot;lang&quot;: {}}); var option = {&quot;legend&quot;: {}, &quot;labels&quot;: {}, &quot;tooltip&quot;: {&quot;pointFormat&quot;: &quot;&lt;tr&gt;&lt;td style=\\&quot;padding-right:1em\\&quot;&gt;{series.name}&lt;/td&gt;&lt;td style=\\&quot;text-align:right\\&quot;&gt;{point.y:.0f} GLD&lt;/td&gt;&lt;/tr&gt;&quot;, &quot;useHTML&quot;: true, &quot;footerFormat&quot;: &quot;&lt;tr&gt;&lt;td style=\\&quot;padding-right:1em\\&quot;&gt;Total&lt;/td&gt;&lt;td style=\\&quot;text-align:right\\&quot;&gt;{point.total:.0f} GLD&lt;/td&gt;&lt;/tr&gt;&lt;/table&gt;&quot;, &quot;shared&quot;: false, &quot;headerFormat&quot;: &quot;&lt;b&gt;{point.key:%Y-%m-%d}&lt;/b&gt; (period start)&lt;table&gt;&quot;}, &quot;navigation&quot;: {}, &quot;plotOptions&quot;: {&quot;column&quot;: {&quot;borderColor&quot;: &quot;#333333&quot;, &quot;borderWidth&quot;: 1, &quot;pointPadding&quot;: 0, &quot;stacking&quot;: &quot;normal&quot;}}, &quot;chart&quot;: {&quot;renderTo&quot;: &quot;container&quot;, &quot;height&quot;: 400, &quot;width&quot;: 600}, &quot;credits&quot;: {&quot;enabled&quot;: false}, &quot;title&quot;: {&quot;text&quot;: &quot;Account Summary&quot;}, &quot;series&quot;: {}, &quot;xAxis&quot;: {&quot;type&quot;: &quot;datetime&quot;, &quot;labels&quot;: {&quot;format&quot;: &quot;{value:%Y-%m-%d}&quot;, &quot;rotation&quot;: -45, &quot;align&quot;: &quot;right&quot;}}, &quot;subtitle&quot;: {}, &quot;exporting&quot;: {}, &quot;colors&quot;: {}, &quot;pane&quot;: {}, &quot;drilldown&quot;: {}, &quot;loading&quot;: {}, &quot;yAxis&quot;: {&quot;title&quot;: {&quot;text&quot;: &quot;Money (GLD)&quot;}}}; var data = [{&quot;stack&quot;: &quot;income&quot;, &quot;data&quot;: [[Date.UTC(2016,0,1,0,0,0,0.0), 439], [Date.UTC(2016,1,1,0,0,0,0.0), 251], [Date.UTC(2016,2,1,0,0,0,0.0), 711], [Date.UTC(2016,3,1,0,0,0,0.0), 378], [Date.UTC(2016,4,1,0,0,0,0.0), 410], [Date.UTC(2016,5,1,0,0,0,0.0), 258], [Date.UTC(2016,6,1,0,0,0,0.0), 453], [Date.UTC(2016,7,1,0,0,0,0.0), 453], [Date.UTC(2016,8,1,0,0,0,0.0), 756], [Date.UTC(2016,9,1,0,0,0,0.0), 683], [Date.UTC(2016,10,1,0,0,0,0.0), 679], [Date.UTC(2016,11,1,0,0,0,0.0), 176]], &quot;type&quot;: &quot;column&quot;, &quot;name&quot;: &quot;Income reiki&quot;, &quot;color&quot;: &quot;rgb(67,162,202)&quot;}, {&quot;stack&quot;: &quot;income&quot;, &quot;data&quot;: [[Date.UTC(2016,0,1,0,0,0,0.0), 140], [Date.UTC(2016,1,1,0,0,0,0.0), 670], [Date.UTC(2016,2,1,0,0,0,0.0), 79], [Date.UTC(2016,3,1,0,0,0,0.0), 505], [Date.UTC(2016,4,1,0,0,0,0.0), 646], [Date.UTC(2016,5,1,0,0,0,0.0), 712], [Date.UTC(2016,6,1,0,0,0,0.0), 689], [Date.UTC(2016,7,1,0,0,0,0.0), 400], [Date.UTC(2016,8,1,0,0,0,0.0), 607], [Date.UTC(2016,9,1,0,0,0,0.0), 557], [Date.UTC(2016,10,1,0,0,0,0.0), 670], [Date.UTC(2016,11,1,0,0,0,0.0), 316]], &quot;type&quot;: &quot;column&quot;, &quot;name&quot;: &quot;Income thieving&quot;, &quot;color&quot;: &quot;rgb(168,221,181)&quot;}, {&quot;stack&quot;: &quot;income&quot;, &quot;data&quot;: [[Date.UTC(2016,0,1,0,0,0,0.0), 695], [Date.UTC(2016,1,1,0,0,0,0.0), 415], [Date.UTC(2016,2,1,0,0,0,0.0), 1112], [Date.UTC(2016,3,1,0,0,0,0.0), 542], [Date.UTC(2016,4,1,0,0,0,0.0), 357], [Date.UTC(2016,5,1,0,0,0,0.0), 716], [Date.UTC(2016,6,1,0,0,0,0.0), 834], [Date.UTC(2016,7,1,0,0,0,0.0), 495], [Date.UTC(2016,8,1,0,0,0,0.0), 563], [Date.UTC(2016,9,1,0,0,0,0.0), 684], [Date.UTC(2016,10,1,0,0,0,0.0), 159], [Date.UTC(2016,11,1,0,0,0,0.0), 187]], &quot;type&quot;: &quot;column&quot;, &quot;name&quot;: &quot;Income yoga&quot;, &quot;color&quot;: &quot;rgb(224,243,219)&quot;}, {&quot;stack&quot;: &quot;expense&quot;, &quot;data&quot;: [[Date.UTC(2016,0,1,0,0,0,0.0), 319], [Date.UTC(2016,1,1,0,0,0,0.0), 338], [Date.UTC(2016,2,1,0,0,0,0.0), 218], [Date.UTC(2016,3,1,0,0,0,0.0), 344], [Date.UTC(2016,4,1,0,0,0,0.0), 394], [Date.UTC(2016,5,1,0,0,0,0.0), 580], [Date.UTC(2016,6,1,0,0,0,0.0), 333], [Date.UTC(2016,7,1,0,0,0,0.0), 316], [Date.UTC(2016,8,1,0,0,0,0.0), 128], [Date.UTC(2016,9,1,0,0,0,0.0), 419], [Date.UTC(2016,10,1,0,0,0,0.0), 238], [Date.UTC(2016,11,1,0,0,0,0.0), 320]], &quot;type&quot;: &quot;column&quot;, &quot;name&quot;: &quot;Expense food&quot;, &quot;color&quot;: &quot;rgb(179,0,0)&quot;}, {&quot;stack&quot;: &quot;expense&quot;, &quot;data&quot;: [[Date.UTC(2016,0,1,0,0,0,0.0), 500], [Date.UTC(2016,1,1,0,0,0,0.0), 342], [Date.UTC(2016,2,1,0,0,0,0.0), 407], [Date.UTC(2016,3,1,0,0,0,0.0), 183], [Date.UTC(2016,4,1,0,0,0,0.0), 229], [Date.UTC(2016,5,1,0,0,0,0.0), 226], [Date.UTC(2016,6,1,0,0,0,0.0), 161], [Date.UTC(2016,7,1,0,0,0,0.0), 278], [Date.UTC(2016,8,1,0,0,0,0.0), 187], [Date.UTC(2016,9,1,0,0,0,0.0), 277], [Date.UTC(2016,10,1,0,0,0,0.0), 378], [Date.UTC(2016,11,1,0,0,0,0.0), 132]], &quot;type&quot;: &quot;column&quot;, &quot;name&quot;: &quot;Expense healthcare&quot;, &quot;color&quot;: &quot;rgb(227,74,51)&quot;}, {&quot;stack&quot;: &quot;expense&quot;, &quot;data&quot;: [[Date.UTC(2016,0,1,0,0,0,0.0), 479], [Date.UTC(2016,1,1,0,0,0,0.0), 212], [Date.UTC(2016,2,1,0,0,0,0.0), 153], [Date.UTC(2016,3,1,0,0,0,0.0), 333], [Date.UTC(2016,4,1,0,0,0,0.0), 300], [Date.UTC(2016,5,1,0,0,0,0.0), 243], [Date.UTC(2016,6,1,0,0,0,0.0), 191], [Date.UTC(2016,7,1,0,0,0,0.0), 319], [Date.UTC(2016,8,1,0,0,0,0.0), 283], [Date.UTC(2016,9,1,0,0,0,0.0), 364], [Date.UTC(2016,10,1,0,0,0,0.0), 183], [Date.UTC(2016,11,1,0,0,0,0.0), 505]], &quot;type&quot;: &quot;column&quot;, &quot;name&quot;: &quot;Expense housing&quot;, &quot;color&quot;: &quot;rgb(252,141,89)&quot;}, {&quot;stack&quot;: &quot;expense&quot;, &quot;data&quot;: [[Date.UTC(2016,0,1,0,0,0,0.0), 221], [Date.UTC(2016,1,1,0,0,0,0.0), 337], [Date.UTC(2016,2,1,0,0,0,0.0), 158], [Date.UTC(2016,3,1,0,0,0,0.0), 340], [Date.UTC(2016,4,1,0,0,0,0.0), 198], [Date.UTC(2016,5,1,0,0,0,0.0), 126], [Date.UTC(2016,6,1,0,0,0,0.0), 287], [Date.UTC(2016,7,1,0,0,0,0.0), 433], [Date.UTC(2016,8,1,0,0,0,0.0), 425], [Date.UTC(2016,9,1,0,0,0,0.0), 373], [Date.UTC(2016,10,1,0,0,0,0.0), 374], [Date.UTC(2016,11,1,0,0,0,0.0), 223]], &quot;type&quot;: &quot;column&quot;, &quot;name&quot;: &quot;Expense miscellany&quot;, &quot;color&quot;: &quot;rgb(253,204,138)&quot;}, {&quot;stack&quot;: &quot;expense&quot;, &quot;data&quot;: [[Date.UTC(2016,0,1,0,0,0,0.0), 208], [Date.UTC(2016,1,1,0,0,0,0.0), 239], [Date.UTC(2016,2,1,0,0,0,0.0), 325], [Date.UTC(2016,3,1,0,0,0,0.0), 262], [Date.UTC(2016,4,1,0,0,0,0.0), 215], [Date.UTC(2016,5,1,0,0,0,0.0), 244], [Date.UTC(2016,6,1,0,0,0,0.0), 221], [Date.UTC(2016,7,1,0,0,0,0.0), 104], [Date.UTC(2016,8,1,0,0,0,0.0), 56], [Date.UTC(2016,9,1,0,0,0,0.0), 163], [Date.UTC(2016,10,1,0,0,0,0.0), 243], [Date.UTC(2016,11,1,0,0,0,0.0), 57]], &quot;type&quot;: &quot;column&quot;, &quot;name&quot;: &quot;Expense transport&quot;, &quot;color&quot;: &quot;rgb(254,240,217)&quot;}, {&quot;stack&quot;: &quot;period_budget&quot;, &quot;data&quot;: [[Date.UTC(2016,0,1,0,0,0,0.0), 1506.0], [Date.UTC(2016,1,1,0,0,0,0.0), 1409.0], [Date.UTC(2016,2,1,0,0,0,0.0), 1506.0], [Date.UTC(2016,3,1,0,0,0,0.0), 1457.0], [Date.UTC(2016,4,1,0,0,0,0.0), 1506.0], [Date.UTC(2016,5,1,0,0,0,0.0), 1457.0], [Date.UTC(2016,6,1,0,0,0,0.0), 1506.0], [Date.UTC(2016,7,1,0,0,0,0.0), 1506.0], [Date.UTC(2016,8,1,0,0,0,0.0), 1457.0], [Date.UTC(2016,9,1,0,0,0,0.0), 1506.0], [Date.UTC(2016,10,1,0,0,0,0.0), 1457.0], [Date.UTC(2016,11,1,0,0,0,0.0), 1506.0]], &quot;type&quot;: &quot;column&quot;, &quot;name&quot;: &quot;Budget&quot;, &quot;color&quot;: &quot;rgb(255, 255, 255)&quot;}, {&quot;stack&quot;: &quot;saving&quot;, &quot;data&quot;: [[Date.UTC(2016,0,1,0,0,0,0.0), -453.0], [Date.UTC(2016,1,1,0,0,0,0.0), -132.0], [Date.UTC(2016,2,1,0,0,0,0.0), 641.0], [Date.UTC(2016,3,1,0,0,0,0.0), -37.0], [Date.UTC(2016,4,1,0,0,0,0.0), 77.0], [Date.UTC(2016,5,1,0,0,0,0.0), 267.0], [Date.UTC(2016,6,1,0,0,0,0.0), 783.0], [Date.UTC(2016,7,1,0,0,0,0.0), -102.0], [Date.UTC(2016,8,1,0,0,0,0.0), 847.0], [Date.UTC(2016,9,1,0,0,0,0.0), 328.0], [Date.UTC(2016,10,1,0,0,0,0.0), 92.0], [Date.UTC(2016,11,1,0,0,0,0.0), -558.0]], &quot;type&quot;: &quot;column&quot;, &quot;name&quot;: &quot;Saving&quot;, &quot;visible&quot;: false, &quot;color&quot;: &quot;rgb(117,107,177)&quot;}]; option.series = data; var chart = new Highcharts.Chart(option); }); &lt;/script&gt; &lt;/body&gt; &lt;/html&gt;\" height=400 width=600></iframe>"
      ],
      "text/plain": [
       "<highcharts.highcharts.highcharts.Highchart at 0x1114f5978>"
      ]
     },
     "execution_count": 4,
     "metadata": {},
     "output_type": "execute_result"
    }
   ],
   "source": [
    "# Summarize again, but also by category\n",
    "\n",
    "summary = bg.summarize(transactions, freq='MS', budget_and_freq=(340, 'W'), \n",
    "  by_category=True, decimals=0)\n",
    "print(summary.head())\n",
    "bg.plot(summary, currency='GLD')\n"
   ]
  },
  {
   "cell_type": "code",
   "execution_count": null,
   "metadata": {
    "collapsed": true
   },
   "outputs": [],
   "source": []
  }
 ],
 "metadata": {
  "kernelspec": {
   "display_name": "Python 3",
   "language": "python",
   "name": "python3"
  },
  "language_info": {
   "codemirror_mode": {
    "name": "ipython",
    "version": 3
   },
   "file_extension": ".py",
   "mimetype": "text/x-python",
   "name": "python",
   "nbconvert_exporter": "python",
   "pygments_lexer": "ipython3",
   "version": "3.5.1"
  }
 },
 "nbformat": 4,
 "nbformat_minor": 1
}
